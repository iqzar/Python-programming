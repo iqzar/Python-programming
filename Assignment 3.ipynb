{
 "cells": [
  {
   "cell_type": "markdown",
   "metadata": {},
   "source": [
    "## 1. Make a calculator using Python with addition , subtraction , multiplication , division and power."
   ]
  },
  {
   "cell_type": "code",
   "execution_count": 1,
   "metadata": {},
   "outputs": [
    {
     "name": "stdout",
     "output_type": "stream",
     "text": [
      "Select operation.\n",
      "1.Add\n",
      "2.Subtract\n",
      "3.Multiply\n",
      "4.Divide\n",
      "5.Power\n",
      "Enter first number: 5\n",
      "Enter second number: 2\n",
      "Enter choice(1/2/3/4/5): 5\n",
      "5 / 2 = 25\n"
     ]
    }
   ],
   "source": [
    "# Program make a simple calculator\n",
    "\n",
    "# This function adds two numbers \n",
    "def add(x, y):\n",
    "   return x + y\n",
    "\n",
    "# This function subtracts two numbers \n",
    "def subtract(x, y):\n",
    "   return x - y\n",
    "\n",
    "# This function multiplies two numbers\n",
    "def multiply(x, y):\n",
    "   return x * y\n",
    "\n",
    "# This function divides two numbers\n",
    "def divide(x, y):\n",
    "   return x / y\n",
    "\n",
    "# This function gives value of powered number\n",
    "def power(x, y):\n",
    "    return x ** y\n",
    "\n",
    "print(\"Select operation.\")\n",
    "print(\"1.Add\")\n",
    "print(\"2.Subtract\")\n",
    "print(\"3.Multiply\")\n",
    "print(\"4.Divide\")\n",
    "print(\"5.Power\")\n",
    "\n",
    "# Take input from the user \n",
    "num1 = int(input(\"Enter first number: \"))\n",
    "num2 = int(input(\"Enter second number: \"))\n",
    "choice = input(\"Enter choice(1/2/3/4/5): \")\n",
    "\n",
    "\n",
    "if choice == '1':\n",
    "   print(num1,\"+\",num2,\"=\", add(num1,num2))\n",
    "\n",
    "elif choice == '2':\n",
    "   print(num1,\"-\",num2,\"=\", subtract(num1,num2))\n",
    "\n",
    "elif choice == '3':\n",
    "   print(num1,\"*\",num2,\"=\", multiply(num1,num2))\n",
    "\n",
    "elif choice == '4':\n",
    "   print(num1,\"/\",num2,\"=\", divide(num1,num2))\n",
    "\n",
    "elif choice == '5':\n",
    "   print(num1,\"/\",num2,\"=\", power(num1,num2))\n",
    "\n",
    "else:\n",
    "   print(\"Invalid input\")"
   ]
  },
  {
   "cell_type": "markdown",
   "metadata": {},
   "source": [
    "## 2. Write a program to check if there is any numeric value in list using for loop"
   ]
  },
  {
   "cell_type": "code",
   "execution_count": 1,
   "metadata": {},
   "outputs": [
    {
     "name": "stdout",
     "output_type": "stream",
     "text": [
      "There is numeric value in given list!\n"
     ]
    }
   ],
   "source": [
    "lst =['ali','ahmed','bilal',7]\n",
    "for i in lst:\n",
    "    if isinstance(i,int):\n",
    "        print(\"There is numeric value in given list!\")\n",
    "        break"
   ]
  },
  {
   "cell_type": "markdown",
   "metadata": {},
   "source": [
    "## 3. Write a Python script to add a key to a dictionary"
   ]
  },
  {
   "cell_type": "code",
   "execution_count": 2,
   "metadata": {
    "scrolled": true
   },
   "outputs": [
    {
     "name": "stdout",
     "output_type": "stream",
     "text": [
      "Enter key you want to add: butter\n",
      "Enter value of the key you entered: 35\n"
     ]
    },
    {
     "data": {
      "text/plain": [
       "{'oil': 20, 'egg': 10, 'bread': 30, 'butter': '35'}"
      ]
     },
     "execution_count": 2,
     "metadata": {},
     "output_type": "execute_result"
    }
   ],
   "source": [
    "products_price ={\"oil\":20,\"egg\":10,\"bread\":30}\n",
    "key=input(\"Enter key you want to add: \")\n",
    "value=input(\"Enter value of the key you entered: \")\n",
    "products_price.update({key:value})\n",
    "products_price"
   ]
  },
  {
   "cell_type": "markdown",
   "metadata": {},
   "source": [
    "## 4. Write a Python program to sum all the numeric items in a dictionary."
   ]
  },
  {
   "cell_type": "code",
   "execution_count": 5,
   "metadata": {},
   "outputs": [
    {
     "name": "stdout",
     "output_type": "stream",
     "text": [
      "Sum of all the numeric values in given dictionary is:  60\n"
     ]
    }
   ],
   "source": [
    "products_price ={\"oil\":20,\"egg\":10,\"bread\":30}\n",
    "print(\"Sum of all the numeric values in given dictionary is: \",sum(products_price.values()))"
   ]
  },
  {
   "cell_type": "markdown",
   "metadata": {},
   "source": [
    "## 5. Write a program to identify duplicate values from list"
   ]
  },
  {
   "cell_type": "code",
   "execution_count": 10,
   "metadata": {},
   "outputs": [
    {
     "name": "stdout",
     "output_type": "stream",
     "text": [
      "[2, 4, 10, 20, 5, 'hi']\n"
     ]
    }
   ],
   "source": [
    "# Python code to remove duplicate elements \n",
    "def Remove(duplicate): \n",
    "    final_list = [] \n",
    "    for num in duplicate: \n",
    "        if num not in final_list: \n",
    "            final_list.append(num) \n",
    "    return final_list \n",
    "      \n",
    "# Driver Code \n",
    "duplicate = [2, 4, 10, 20, 5, 2, 20, 4,\"hi\", \"hi\"] \n",
    "print(Remove(duplicate)) \n"
   ]
  },
  {
   "cell_type": "markdown",
   "metadata": {},
   "source": [
    "## 6. Write a Python script to check if a given key already exists  in a dictionary."
   ]
  },
  {
   "cell_type": "code",
   "execution_count": 9,
   "metadata": {},
   "outputs": [
    {
     "name": "stdout",
     "output_type": "stream",
     "text": [
      "Key is present in the dictionary\n",
      "Key is not present in the dictionary\n"
     ]
    }
   ],
   "source": [
    "tools ={\"oil\":20,\"egg\":10,\"bread\":30}\n",
    "# This function check key is present or not in dic:\n",
    "def check(x):\n",
    "    if x in tools:\n",
    "        print('Key is present in the dictionary')\n",
    "    else:\n",
    "        print('Key is not present in the dictionary')\n",
    "check('oil')  \n",
    "check(\"butter\")"
   ]
  },
  {
   "cell_type": "code",
   "execution_count": null,
   "metadata": {},
   "outputs": [],
   "source": []
  },
  {
   "cell_type": "code",
   "execution_count": null,
   "metadata": {},
   "outputs": [],
   "source": []
  }
 ],
 "metadata": {
  "kernelspec": {
   "display_name": "Python 3",
   "language": "python",
   "name": "python3"
  },
  "language_info": {
   "codemirror_mode": {
    "name": "ipython",
    "version": 3
   },
   "file_extension": ".py",
   "mimetype": "text/x-python",
   "name": "python",
   "nbconvert_exporter": "python",
   "pygments_lexer": "ipython3",
   "version": "3.7.3"
  }
 },
 "nbformat": 4,
 "nbformat_minor": 2
}
