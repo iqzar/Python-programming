{
 "cells": [
  {
   "cell_type": "markdown",
   "metadata": {},
   "source": [
    "### Question1:\n",
    "Use a dictionary to store information about a person you know. Store their first name, last name, age,\n",
    "and the city in which they live. You should have keys such as first_name, last_name, age, and city. Print\n",
    "each piece of information stored in your dictionary. Add a new key value pair about qualification then\n",
    "update the qualification value to high academic level then delete it."
   ]
  },
  {
   "cell_type": "code",
   "execution_count": 1,
   "metadata": {},
   "outputs": [
    {
     "data": {
      "text/plain": [
       "{'first_name': 'Bushra',\n",
       " 'last_name': 'Afsar_ali',\n",
       " 'age': 21,\n",
       " 'city': 'Karachi'}"
      ]
     },
     "execution_count": 1,
     "metadata": {},
     "output_type": "execute_result"
    }
   ],
   "source": [
    "Personal_info = {\"first_name\":\"Bushra\",\"last_name\":\"Afsar_ali\",\"age\":21,\"city\":\"Karachi\"}\n",
    "Personal_info"
   ]
  },
  {
   "cell_type": "code",
   "execution_count": 2,
   "metadata": {},
   "outputs": [
    {
     "data": {
      "text/plain": [
       "{'first_name': 'Bushra',\n",
       " 'last_name': 'Afsar_ali',\n",
       " 'age': 21,\n",
       " 'city': 'Karachi',\n",
       " 'Qualification': 'Bachelors in commerce'}"
      ]
     },
     "execution_count": 2,
     "metadata": {},
     "output_type": "execute_result"
    }
   ],
   "source": [
    "# To add new key with pair :\n",
    "update_info = {\"Qualification\":\"Bachelors in commerce\"}\n",
    "Personal_info.update(update_info)\n",
    "Personal_info"
   ]
  },
  {
   "cell_type": "code",
   "execution_count": 3,
   "metadata": {},
   "outputs": [
    {
     "data": {
      "text/plain": [
       "{'first_name': 'Bushra',\n",
       " 'last_name': 'Afsar_ali',\n",
       " 'age': 21,\n",
       " 'city': 'Karachi',\n",
       " 'Qualification': 'Masters'}"
      ]
     },
     "execution_count": 3,
     "metadata": {},
     "output_type": "execute_result"
    }
   ],
   "source": [
    "# To update qualifition value :\n",
    "Personal_info['Qualification']='Masters'\n",
    "Personal_info"
   ]
  },
  {
   "cell_type": "code",
   "execution_count": 4,
   "metadata": {},
   "outputs": [
    {
     "data": {
      "text/plain": [
       "{'first_name': 'Bushra',\n",
       " 'last_name': 'Afsar_ali',\n",
       " 'age': 21,\n",
       " 'city': 'Karachi'}"
      ]
     },
     "execution_count": 4,
     "metadata": {},
     "output_type": "execute_result"
    }
   ],
   "source": [
    "# To delete last updated key fron dictionary :\n",
    "del Personal_info['Qualification']\n",
    "Personal_info"
   ]
  },
  {
   "cell_type": "markdown",
   "metadata": {},
   "source": [
    "### Question2:\n",
    "Make a dictionary called cities. Use the names of three cities as keys in your dictionary. Create a\n",
    "dictionary of information about each city and include the country that the city is in, its approximate\n",
    "population, and one fact about that city. The keys for each city’s dictionary should be something like\n",
    "country, population, and fact. Print the name of each city and all of the information you have stored\n",
    "about it."
   ]
  },
  {
   "cell_type": "code",
   "execution_count": 5,
   "metadata": {},
   "outputs": [
    {
     "data": {
      "text/plain": [
       "{'Karachi': {'City': 'Pakistan',\n",
       "  'Population': '14.91 million',\n",
       "  'Fact': 'City of lights'},\n",
       " 'Newyork': {'City': 'United state',\n",
       "  'Population': '8.623 million',\n",
       "  'Fact': 'More than 800 languages being spoken in NY'},\n",
       " 'Dehli': {'City': 'India',\n",
       "  'Population': '18.98 million',\n",
       "  'Fact': 'Largest market spices in Asia'}}"
      ]
     },
     "execution_count": 5,
     "metadata": {},
     "output_type": "execute_result"
    }
   ],
   "source": [
    "cities = {\n",
    "    'Karachi':{'City':'Pakistan','Population':'14.91 million','Fact':'City of lights'}\n",
    "    ,'Newyork'\n",
    "    :{'City':'United state','Population':'8.623 million','Fact':'More than 800 languages being spoken in NY'},\n",
    "    'Dehli'\n",
    "    :{'City':'India','Population':'18.98 million','Fact':'Largest market spices in Asia'}}\n",
    "cities"
   ]
  },
  {
   "cell_type": "markdown",
   "metadata": {},
   "source": [
    "### Question3:\n",
    "A movie theater charges different ticket prices depending on a person’s age. If a person is under the age\n",
    "of 3, the ticket is free; if they are between 3 and 12, the ticket is $10 and if they are over age 12, the\n",
    "ticket is $15. Write a loop in which you ask users their age, and then tell them the cost of their movie\n",
    "ticket."
   ]
  },
  {
   "cell_type": "code",
   "execution_count": 6,
   "metadata": {},
   "outputs": [
    {
     "name": "stdout",
     "output_type": "stream",
     "text": [
      "Enter quit if you want to exit\n",
      "Select 'Enter' for ticket and 'Quit' for exit: Enter\n",
      "Enter your age here:4\n",
      "Your ticket is $10\n",
      "Select 'Enter' for ticket and 'Quit' for exit: Quit\n"
     ]
    }
   ],
   "source": [
    "# using while loop \n",
    "print(\"Enter quit if you want to exit\")\n",
    "while True:  \n",
    "    option =input(\"Select 'Enter' for ticket and 'Quit' for exit: \")\n",
    "    if option == 'Quit':\n",
    "        break    \n",
    "    else:    \n",
    "        age = int(input(\"Enter your age here:\"))    \n",
    "        if age <= 3:\n",
    "            print(\"Your ticket is free\")\n",
    "        elif age > 3 and age <= 12:\n",
    "            print(\"Your ticket is $10\")\n",
    "        elif age > 12:\n",
    "            print(\"Your ticket is $15\")\n",
    "        else:\n",
    "            print(\"Invalid answer\")\n",
    "\n",
    "        "
   ]
  },
  {
   "cell_type": "markdown",
   "metadata": {},
   "source": [
    "### Question4:\n",
    "Write a function called favorite_book() that accepts one parameter, title. The function should print a\n",
    "message, such as One of my favorite books is Alice in Wonderland. Call the function, making sure to\n",
    "include a book title as an argument in the function call."
   ]
  },
  {
   "cell_type": "code",
   "execution_count": 7,
   "metadata": {},
   "outputs": [
    {
     "name": "stdout",
     "output_type": "stream",
     "text": [
      "The subtle art is not giving a fuck is one of my favorite book\n"
     ]
    }
   ],
   "source": [
    "def favorite_book(title):\n",
    "    print(title, \"is one of my favorite book\")\n",
    "favorite_book('The subtle art is not giving a fuck')\n",
    "    "
   ]
  },
  {
   "cell_type": "markdown",
   "metadata": {},
   "source": [
    " ### Question5:\n",
    " Write a program which randomly generate a number between 1 to 30 and ask the user in input field to\n",
    "guess the correct number. Give three chances to user guess the number and also give hint to user if\n",
    "hidden number is greater or smaller than the number he given to input field."
   ]
  },
  {
   "cell_type": "code",
   "execution_count": 8,
   "metadata": {},
   "outputs": [
    {
     "data": {
      "text/plain": [
       "22"
      ]
     },
     "execution_count": 8,
     "metadata": {},
     "output_type": "execute_result"
    }
   ],
   "source": [
    "from random import randint as r \n",
    "number= r(1,30)\n",
    "number"
   ]
  },
  {
   "cell_type": "code",
   "execution_count": 10,
   "metadata": {},
   "outputs": [
    {
     "name": "stdout",
     "output_type": "stream",
     "text": [
      "Guess the Correct Number:4\n",
      "HINT! correct no is greater than you guessed\n",
      "Guess the Correct Number:25\n",
      "HINT! correct no is small than you guessed\n",
      "Guess the Correct Number:22\n",
      "BINGO! You guess correct number\n"
     ]
    }
   ],
   "source": [
    "# Ask user to guess your random number\n",
    "for i in range(3):\n",
    "    guess=int(input(\"Guess the Correct Number:\"))\n",
    "    if guess == number:\n",
    "        print(\"BINGO! You guess correct number\")\n",
    "        break\n",
    "    elif  guess > number:\n",
    "        print(\"HINT! correct no is small than you guessed\")\n",
    "    elif guess < number:\n",
    "        print(\"HINT! correct no is greater than you guessed\")\n",
    "    else:\n",
    "        print(\"Error\")\n"
   ]
  },
  {
   "cell_type": "code",
   "execution_count": null,
   "metadata": {},
   "outputs": [],
   "source": []
  },
  {
   "cell_type": "code",
   "execution_count": null,
   "metadata": {},
   "outputs": [],
   "source": []
  }
 ],
 "metadata": {
  "kernelspec": {
   "display_name": "Python 3",
   "language": "python",
   "name": "python3"
  },
  "language_info": {
   "codemirror_mode": {
    "name": "ipython",
    "version": 3
   },
   "file_extension": ".py",
   "mimetype": "text/x-python",
   "name": "python",
   "nbconvert_exporter": "python",
   "pygments_lexer": "ipython3",
   "version": "3.7.3"
  }
 },
 "nbformat": 4,
 "nbformat_minor": 2
}
