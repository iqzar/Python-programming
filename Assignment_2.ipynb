{
 "cells": [
  {
   "cell_type": "markdown",
   "metadata": {},
   "source": [
    "## 1. Write a program which takes 5 inputs from user for different subject’s marks, total it and generate mark sheet using grades ?"
   ]
  },
  {
   "cell_type": "code",
   "execution_count": 18,
   "metadata": {},
   "outputs": [
    {
     "name": "stdout",
     "output_type": "stream",
     "text": [
      "student name IQRA\n",
      "class 10\n",
      "english subject mark 29\n",
      "urdu subject mark 85\n",
      "math subject mark 45\n",
      "science subject mark 88\n",
      "social science subject mark 78\n",
      "\n",
      "\n",
      "\n",
      "                Karachi Public Secondary School\n",
      "              _ _ _ _ _ _ _ _ _ _ _ _ _ _ _ _ _ _ _ _ _\n",
      "                     MARK SHEET OF CANDIDATE\n",
      "              _ _ _ _ _ _ _ _ _ _ _ _ _ _ _ _ _ _ _ _ _\n",
      "             Student name: IQRA Class: 10\n",
      "\n",
      "                     SUBJECTS                 OBTAINED MARKS\n",
      "\n",
      "                     English        :     29\n",
      "                     Urdu           :     85\n",
      "                     Math           :     45\n",
      "                     Science        :     88\n",
      "                     Social science :     78\n",
      "\n",
      "                         Total      :     325 out of 500\n",
      "                         Percentage :     65.0 %\n",
      "                         Grade      :      fail\n",
      "\n"
     ]
    }
   ],
   "source": [
    "student=str(input('student name '))\n",
    "clas=str(input('class '))\n",
    "english=int(input('english subject mark '))\n",
    "urdu=int(input('urdu subject mark '))\n",
    "math=int(input('math subject mark '))\n",
    "science=int(input('science subject mark '))\n",
    "socialscience=int(input('social science subject mark '))\n",
    "total=english+urdu+math+science+socialscience\n",
    "per=(english+urdu+math+science+socialscience)/5.0\n",
    "if(english<30)or(urdu<30)or(math<30)or(science<30)or(socialscience<30):\n",
    "    result = 'fail'   \n",
    "elif per >= 80: \n",
    "    result = 'A+1'\n",
    "    print (result)\n",
    "elif per >= 70:\n",
    "    result = \"A\"\n",
    "    print (result)\n",
    "elif per >= 60:\n",
    "    result = 'B'\n",
    "    print (result)\n",
    "elif per >= 50: \n",
    "    result = 'C'\n",
    "    print (result)\n",
    "elif per >= 40: \n",
    "    result =' D'\n",
    "    print (result)\n",
    "elif per >= 30: \n",
    "    result= 'E'\n",
    "    print (result)\n",
    "else : \n",
    "    result = 'fail'\n",
    "    print (result)\n",
    "print()\n",
    "print()\n",
    "print()\n",
    "print('                Karachi Public Secondary School')\n",
    "print('              _ _ _ _ _ _ _ _ _ _ _ _ _ _ _ _ _ _ _ _ _')\n",
    "print('                     MARK SHEET OF CANDIDATE')\n",
    "print('              _ _ _ _ _ _ _ _ _ _ _ _ _ _ _ _ _ _ _ _ _')\n",
    "print('             Student name:', student,      'Class:',clas)\n",
    "print()\n",
    "print('                     SUBJECTS                 OBTAINED MARKS')\n",
    "print()\n",
    "print('                     English        :    ',english)\n",
    "print('                     Urdu           :    ',urdu)\n",
    "print('                     Math           :    ',math)\n",
    "print('                     Science        :    ',science)\n",
    "print('                     Social science :    ',socialscience)\n",
    "print()\n",
    "print('                         Total      :    ',total,'out of 500')\n",
    "print(\"                         Percentage :    \",per,'%')\n",
    "print('                         Grade      :     ',result             )\n",
    "print()"
   ]
  },
  {
   "cell_type": "markdown",
   "metadata": {},
   "source": [
    "## 2. Write a program which take input from user and identify that the given number is even or odd?"
   ]
  },
  {
   "cell_type": "code",
   "execution_count": 19,
   "metadata": {},
   "outputs": [
    {
     "name": "stdout",
     "output_type": "stream",
     "text": [
      "Enter your number :6\n",
      "No you entered is an ODD NO\n"
     ]
    }
   ],
   "source": [
    "no =int(input(\"Enter your number :\"))\n",
    "if no == 2:\n",
    "    print(\"No you entered is an EVEN NO\")\n",
    "else:\n",
    "    print(\"No you entered is an ODD NO\")"
   ]
  },
  {
   "cell_type": "markdown",
   "metadata": {},
   "source": [
    "## 3. Write a program which print the length of the list?"
   ]
  },
  {
   "cell_type": "code",
   "execution_count": 20,
   "metadata": {},
   "outputs": [
    {
     "name": "stdout",
     "output_type": "stream",
     "text": [
      "10\n"
     ]
    }
   ],
   "source": [
    "list =[1,2,3,4,5,56,6,7,8,8]\n",
    "n =len(list)\n",
    "print(n)"
   ]
  },
  {
   "cell_type": "markdown",
   "metadata": {},
   "source": [
    "## 4. Write a Python program to sum all the numeric items in a list?"
   ]
  },
  {
   "cell_type": "code",
   "execution_count": 21,
   "metadata": {},
   "outputs": [
    {
     "name": "stdout",
     "output_type": "stream",
     "text": [
      "Sum of all the numeric items in list is : 495\n"
     ]
    }
   ],
   "source": [
    "total = 0 \n",
    "list =[11,22,33,44,55,66,77,88,99]\n",
    "for i in range(0, len(list)):\n",
    "    total = total + list[i]\n",
    "print(\"Sum of all the numeric items in list is :\", total)    "
   ]
  },
  {
   "cell_type": "markdown",
   "metadata": {},
   "source": [
    "## 5. Write a Python program to get the largest number from a numeric list?"
   ]
  },
  {
   "cell_type": "code",
   "execution_count": 6,
   "metadata": {},
   "outputs": [
    {
     "name": "stdout",
     "output_type": "stream",
     "text": [
      "Largest no of liast is: 97\n"
     ]
    }
   ],
   "source": [
    "list =[56,87,44,22,56,86,45,77,34,97]\n",
    "list.sort()\n",
    "print(\"Largest no of list is:\" , list[-1])\n"
   ]
  },
  {
   "cell_type": "markdown",
   "metadata": {},
   "source": [
    "## 6. Take a list, say for example this one:a = [1, 1, 2, 3, 5, 8, 13, 21, 34, 55, 89]and write a program that prints out all the elements of the list that areless than 5."
   ]
  },
  {
   "cell_type": "code",
   "execution_count": 22,
   "metadata": {},
   "outputs": [
    {
     "name": "stdout",
     "output_type": "stream",
     "text": [
      "2\n",
      "4\n",
      "4\n",
      "1\n",
      "3\n",
      "3\n",
      "2\n",
      "1\n",
      "3\n"
     ]
    }
   ],
   "source": [
    "list= [2,4,7,9,4,1,3,5,3,2,1,3]\n",
    "for i in range(0, len(list)):\n",
    "    if list[i] < 5:\n",
    "        print(list[i])"
   ]
  },
  {
   "cell_type": "code",
   "execution_count": null,
   "metadata": {},
   "outputs": [],
   "source": []
  }
 ],
 "metadata": {
  "kernelspec": {
   "display_name": "Python 3",
   "language": "python",
   "name": "python3"
  },
  "language_info": {
   "codemirror_mode": {
    "name": "ipython",
    "version": 3
   },
   "file_extension": ".py",
   "mimetype": "text/x-python",
   "name": "python",
   "nbconvert_exporter": "python",
   "pygments_lexer": "ipython3",
   "version": "3.7.3"
  }
 },
 "nbformat": 4,
 "nbformat_minor": 2
}
