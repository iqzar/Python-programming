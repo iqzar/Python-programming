{
 "cells": [
  {
   "cell_type": "markdown",
   "metadata": {},
   "source": [
    "# Assignment 5"
   ]
  },
  {
   "cell_type": "markdown",
   "metadata": {},
   "source": [
    "## Question:1\n",
    "Write a Python function to calculate the factorial of a number (a non-negative\n",
    "integer). The function accepts the number as an argument."
   ]
  },
  {
   "cell_type": "code",
   "execution_count": 1,
   "metadata": {},
   "outputs": [
    {
     "name": "stdout",
     "output_type": "stream",
     "text": [
      "Enter a number here: 7\n",
      "The factorial of 7 is 5040\n"
     ]
    }
   ],
   "source": [
    "# This program help to find out factorial of a number \n",
    "\n",
    "# take a number from user\n",
    "num =int(input(\"Enter a number here: \"))\n",
    "factorial = 1\n",
    "if num < 0:\n",
    "    print(\"Factorial cannot be found for negative numbers\")\n",
    "elif num == 0:\n",
    "    print(\"Factorial of 0 is 1\")\n",
    "else:\n",
    "    for i in range(1,num + 1):\n",
    "       factorial = factorial*i\n",
    "    print(\"The factorial of\",num,\"is\",factorial)"
   ]
  },
  {
   "cell_type": "markdown",
   "metadata": {},
   "source": [
    "## Question:2\n",
    "Write a Python function that accepts a string and calculate the number of upper\n",
    "case letters and lower case letters."
   ]
  },
  {
   "cell_type": "code",
   "execution_count": 2,
   "metadata": {},
   "outputs": [
    {
     "name": "stdout",
     "output_type": "stream",
     "text": [
      "Enter your message here: Hello World\n",
      "Lower case characters = 8 Upper case characters = 2\n"
     ]
    }
   ],
   "source": [
    "# This program help to count upper case and lower case:\n",
    "def upperlower(string): \n",
    "  \n",
    "    upper = 0\n",
    "    lower = 0\n",
    "  \n",
    "    for i in range(len(string)): \n",
    "          \n",
    "        # For lower letters \n",
    "        if (ord(string[i]) >= 97 and\n",
    "            ord(string[i]) <= 122): \n",
    "            lower += 1\n",
    "  \n",
    "        # For upper letters \n",
    "        elif (ord(string[i]) >= 65 and\n",
    "              ord(string[i]) <= 90): \n",
    "            upper += 1\n",
    "  \n",
    "    print('Lower case characters = %s' %lower, \n",
    "          'Upper case characters = %s' %upper) \n",
    "string=input(\"Enter your message here: \" '')\n",
    "upperlower(string)"
   ]
  },
  {
   "cell_type": "markdown",
   "metadata": {},
   "source": [
    "## Question:3\n",
    "Write a Python function to print the even numbers from a given list."
   ]
  },
  {
   "cell_type": "code",
   "execution_count": 3,
   "metadata": {},
   "outputs": [
    {
     "name": "stdout",
     "output_type": "stream",
     "text": [
      "2 8 54 10 "
     ]
    }
   ],
   "source": [
    "list1 =[2,5,8,54,23,17,10]\n",
    "# iterating each number in list to check if number is even or not:\n",
    "for num in list1: \n",
    "      \n",
    "    # checking condition \n",
    "    if num % 2 == 0: \n",
    "       print(num, end = \" \")"
   ]
  },
  {
   "cell_type": "markdown",
   "metadata": {},
   "source": [
    "## Question:4\n",
    "Write a Python function that checks whether a passed string is palindrome or not.\n",
    "Note: A palindrome is a word, phrase, or sequence that reads the same\n",
    "backward as forward, e.g., madam"
   ]
  },
  {
   "cell_type": "code",
   "execution_count": 4,
   "metadata": {},
   "outputs": [
    {
     "name": "stdout",
     "output_type": "stream",
     "text": [
      "Enter any word:helloworld\n",
      "word is not palindrome\n"
     ]
    }
   ],
   "source": [
    "#Write a program to check whether given input is palindrome or not:\n",
    "word=input(\"Enter any word:\" )\n",
    "rev=word[::-1]\n",
    "if word == rev:\n",
    "    print(\"word is palindrome \")\n",
    "else:\n",
    "    print(\"word is not palindrome\")   "
   ]
  },
  {
   "cell_type": "markdown",
   "metadata": {},
   "source": [
    "## Question:5\n",
    "Write a Python function that takes a number as a parameter and check the\n",
    "number is prime or not. "
   ]
  },
  {
   "cell_type": "code",
   "execution_count": 13,
   "metadata": {},
   "outputs": [
    {
     "name": "stdout",
     "output_type": "stream",
     "text": [
      "Enter a number: 6\n",
      "6 is not a prime number\n"
     ]
    }
   ],
   "source": [
    "# To take input from the user\n",
    "num = int(input(\"Enter a number: \"))\n",
    "# prime numbers are greater than 1\n",
    "if num > 1:\n",
    "   # check for factors\n",
    "    for i in range(2,num):\n",
    "         if(num % i) == 0:\n",
    "            print(num,\"is not a prime number\")\n",
    "            break\n",
    "    else:\n",
    "        print(num,\"is a prime number\")\n",
    "else:\n",
    "    print(num,\"is not a prime number\")"
   ]
  },
  {
   "cell_type": "markdown",
   "metadata": {},
   "source": [
    "## Question:6\n",
    "Write a function which accepts multiple argument of user shopping list and print all the items which user brought from market"
   ]
  },
  {
   "cell_type": "code",
   "execution_count": 6,
   "metadata": {},
   "outputs": [
    {
     "name": "stdout",
     "output_type": "stream",
     "text": [
      "List of items brought by customer:\n",
      "__LCD\n",
      "__Iron\n",
      "__Dinning table\n",
      "__Refrigerator\n",
      "__Micro wave\n",
      "__Washing machine\n"
     ]
    }
   ],
   "source": [
    "def shopping(*lst):\n",
    "    for item in lst:\n",
    "        print(item)\n",
    "print(\"List of items brought by customer:\")\n",
    "shopping(\"__LCD\",\"__Iron\",\"__Dinning table\",\"__Refrigerator\",\"__Micro wave\",\"__Washing machine\")\n"
   ]
  },
  {
   "cell_type": "code",
   "execution_count": null,
   "metadata": {},
   "outputs": [],
   "source": []
  },
  {
   "cell_type": "code",
   "execution_count": null,
   "metadata": {},
   "outputs": [],
   "source": []
  }
 ],
 "metadata": {
  "kernelspec": {
   "display_name": "Python 3",
   "language": "python",
   "name": "python3"
  },
  "language_info": {
   "codemirror_mode": {
    "name": "ipython",
    "version": 3
   },
   "file_extension": ".py",
   "mimetype": "text/x-python",
   "name": "python",
   "nbconvert_exporter": "python",
   "pygments_lexer": "ipython3",
   "version": "3.7.3"
  }
 },
 "nbformat": 4,
 "nbformat_minor": 2
}
